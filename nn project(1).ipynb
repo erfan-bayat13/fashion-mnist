{
 "cells": [
  {
   "cell_type": "markdown",
   "metadata": {},
   "source": [
    "# fashion mnist"
   ]
  },
  {
   "cell_type": "markdown",
   "metadata": {},
   "source": [
    "Fashion-MNIST is a dataset of Zalando's article images—consisting of a training set of 60,000 examples and a test set of 10,000 examples. Each example is a 28x28 grayscale image, associated with a label from 10 classes. We intend Fashion-MNIST to serve as a direct drop-in replacement for the original MNIST dataset for benchmarking machine learning algorithms. It shares the same image size and structure of training and testing splits."
   ]
  },
  {
   "cell_type": "markdown",
   "metadata": {},
   "source": [
    "# Why we made Fashion-MNIST\n",
    "The original MNIST dataset contains a lot of handwritten digits. Members of the AI/ML/Data Science community love this dataset and use it as a benchmark to validate their algorithms. In fact, MNIST is often the first dataset researchers try. \"If it doesn't work on MNIST, it won't work at all\", they said. \"Well, if it does work on MNIST, it may still fail on others.\""
   ]
  },
  {
   "cell_type": "markdown",
   "metadata": {},
   "source": [
    "importing"
   ]
  },
  {
   "cell_type": "code",
   "execution_count": 82,
   "metadata": {},
   "outputs": [
    {
     "name": "stdout",
     "output_type": "stream",
     "text": [
      "2.6.0\n"
     ]
    }
   ],
   "source": [
    "import tensorflow as tf\n",
    "import numpy as np\n",
    "import matplotlib.pyplot as plt\n",
    "import keras\n",
    "from tensorflow.keras.preprocessing.image import ImageDataGenerator\n",
    "from tensorflow.keras.models import Sequential\n",
    "from tensorflow.keras.layers import Dense, Dropout, Activation, Flatten\n",
    "from tensorflow.keras.layers import Conv2D, MaxPooling2D\n",
    "from keras.datasets import cifar10\n",
    "from keras.preprocessing.image import ImageDataGenerator\n",
    "from keras.models import Sequential\n",
    "from keras.layers import Dense, Dropout, Activation, Flatten\n",
    "from keras.layers import Conv2D, MaxPooling2D\n",
    "import matplotlib.pyplot as plt\n",
    "from tensorflow.keras import backend as K\n",
    "import datetime\n",
    "from keras.layers import Input, Dense\n",
    "from tensorflow.keras.layers import BatchNormalization, Flatten, Reshape, Conv2DTranspose, LeakyReLU, MaxPool2D\n",
    "from keras.models import Model\n",
    "from tensorflow.keras.optimizers import SGD, Adam\n",
    "print(tf.__version__)"
   ]
  },
  {
   "cell_type": "markdown",
   "metadata": {},
   "source": [
    "# Loading data "
   ]
  },
  {
   "cell_type": "code",
   "execution_count": 3,
   "metadata": {},
   "outputs": [],
   "source": [
    "fashion_mnist = tf.keras.datasets.fashion_mnist\n",
    "\n",
    "(train_images, train_labels), (test_images, test_labels) = fashion_mnist.load_data()"
   ]
  },
  {
   "cell_type": "markdown",
   "metadata": {},
   "source": [
    "# preprocessing data and feature engineering"
   ]
  },
  {
   "cell_type": "code",
   "execution_count": 4,
   "metadata": {},
   "outputs": [
    {
     "data": {
      "text/plain": [
       "array([9, 2, 1, ..., 8, 1, 5], dtype=uint8)"
      ]
     },
     "execution_count": 4,
     "metadata": {},
     "output_type": "execute_result"
    }
   ],
   "source": [
    "test_labels"
   ]
  },
  {
   "cell_type": "code",
   "execution_count": 5,
   "metadata": {},
   "outputs": [
    {
     "data": {
      "text/plain": [
       "(60000, 28, 28)"
      ]
     },
     "execution_count": 5,
     "metadata": {},
     "output_type": "execute_result"
    }
   ],
   "source": [
    "train_images.shape"
   ]
  },
  {
   "cell_type": "code",
   "execution_count": 6,
   "metadata": {},
   "outputs": [
    {
     "data": {
      "text/plain": [
       "60000"
      ]
     },
     "execution_count": 6,
     "metadata": {},
     "output_type": "execute_result"
    }
   ],
   "source": [
    "len(train_labels)"
   ]
  },
  {
   "cell_type": "code",
   "execution_count": 7,
   "metadata": {},
   "outputs": [],
   "source": [
    "img_rows, img_cols = 28, 28\n",
    "filters = 32\n",
    "pool_size = 2\n",
    "kernel_size = 3"
   ]
  },
  {
   "cell_type": "code",
   "execution_count": 8,
   "metadata": {},
   "outputs": [],
   "source": [
    "batch_size = 128\n",
    "num_classes = 10\n",
    "epochs = 5"
   ]
  },
  {
   "cell_type": "code",
   "execution_count": 9,
   "metadata": {},
   "outputs": [],
   "source": [
    "now = datetime.datetime.now"
   ]
  },
  {
   "cell_type": "code",
   "execution_count": 10,
   "metadata": {},
   "outputs": [],
   "source": [
    "if K.image_data_format() == 'channels_first':\n",
    "    input_shape = (1, img_rows, img_cols)\n",
    "else:\n",
    "    input_shape = (img_rows, img_cols, 1)"
   ]
  },
  {
   "cell_type": "markdown",
   "metadata": {},
   "source": [
    "we define a function to call for the rest of the notebook to do the processing easier "
   ]
  },
  {
   "cell_type": "code",
   "execution_count": 11,
   "metadata": {},
   "outputs": [],
   "source": [
    "def train_model(model, train, test, num_classes):\n",
    "    x_train = train[0].reshape((train[0].shape[0],) + input_shape)\n",
    "    x_test = test[0].reshape((test[0].shape[0],) + input_shape)\n",
    "    x_train = x_train.astype('float32')\n",
    "    x_test = x_test.astype('float32')\n",
    "    x_train /= 255\n",
    "    x_test /= 255\n",
    "    print('x_train shape:', x_train.shape)\n",
    "    print(x_train.shape[0], 'train samples')\n",
    "    print(x_test.shape[0], 'test samples')\n",
    "\n",
    "    y_train =keras.utils.np_utils.to_categorical(train[1], num_classes)\n",
    "    y_test = keras.utils.np_utils.to_categorical(test[1], num_classes)\n",
    "\n",
    "    model.compile(loss='categorical_crossentropy',\n",
    "                  optimizer='adadelta',\n",
    "                  metrics=['accuracy'])\n",
    "\n",
    "    t = now()\n",
    "    model.fit(x_train, y_train,\n",
    "              batch_size=batch_size,\n",
    "              epochs=epochs,\n",
    "              verbose=1,\n",
    "              validation_data=(x_test, y_test))\n",
    "    print('Training time: %s' % (now() - t))\n",
    "\n",
    "    score = model.evaluate(x_test, y_test, verbose=0)\n",
    "    print('Test score:', score[0])\n",
    "    print('Test accuracy:', score[1])"
   ]
  },
  {
   "cell_type": "markdown",
   "metadata": {},
   "source": [
    "# first model \n",
    "simple"
   ]
  },
  {
   "cell_type": "code",
   "execution_count": 12,
   "metadata": {},
   "outputs": [],
   "source": [
    "feature_layers = [\n",
    "    Conv2D(filters, kernel_size,\n",
    "           padding='valid',\n",
    "           input_shape=input_shape),\n",
    "    Activation('relu'),\n",
    "    Conv2D(filters, kernel_size),\n",
    "    Activation('relu'),\n",
    "    MaxPooling2D(pool_size=pool_size),\n",
    "    Dropout(0.25),\n",
    "    Flatten(),\n",
    "]"
   ]
  },
  {
   "cell_type": "code",
   "execution_count": 13,
   "metadata": {},
   "outputs": [],
   "source": [
    "classification_layers = [\n",
    "    Dense(128),\n",
    "    Activation('relu'),\n",
    "    Dropout(0.5),\n",
    "    Dense(num_classes),\n",
    "    Activation('softmax')\n",
    "]"
   ]
  },
  {
   "cell_type": "code",
   "execution_count": 14,
   "metadata": {},
   "outputs": [],
   "source": [
    "model = Sequential(feature_layers + classification_layers)"
   ]
  },
  {
   "cell_type": "code",
   "execution_count": 15,
   "metadata": {},
   "outputs": [
    {
     "name": "stdout",
     "output_type": "stream",
     "text": [
      "Model: \"sequential\"\n",
      "_________________________________________________________________\n",
      "Layer (type)                 Output Shape              Param #   \n",
      "=================================================================\n",
      "conv2d (Conv2D)              (None, 26, 26, 32)        320       \n",
      "_________________________________________________________________\n",
      "activation (Activation)      (None, 26, 26, 32)        0         \n",
      "_________________________________________________________________\n",
      "conv2d_1 (Conv2D)            (None, 24, 24, 32)        9248      \n",
      "_________________________________________________________________\n",
      "activation_1 (Activation)    (None, 24, 24, 32)        0         \n",
      "_________________________________________________________________\n",
      "max_pooling2d (MaxPooling2D) (None, 12, 12, 32)        0         \n",
      "_________________________________________________________________\n",
      "dropout (Dropout)            (None, 12, 12, 32)        0         \n",
      "_________________________________________________________________\n",
      "flatten (Flatten)            (None, 4608)              0         \n",
      "_________________________________________________________________\n",
      "dense (Dense)                (None, 128)               589952    \n",
      "_________________________________________________________________\n",
      "activation_2 (Activation)    (None, 128)               0         \n",
      "_________________________________________________________________\n",
      "dropout_1 (Dropout)          (None, 128)               0         \n",
      "_________________________________________________________________\n",
      "dense_1 (Dense)              (None, 10)                1290      \n",
      "_________________________________________________________________\n",
      "activation_3 (Activation)    (None, 10)                0         \n",
      "=================================================================\n",
      "Total params: 600,810\n",
      "Trainable params: 600,810\n",
      "Non-trainable params: 0\n",
      "_________________________________________________________________\n"
     ]
    }
   ],
   "source": [
    "model.summary()"
   ]
  },
  {
   "cell_type": "code",
   "execution_count": 16,
   "metadata": {},
   "outputs": [
    {
     "name": "stdout",
     "output_type": "stream",
     "text": [
      "x_train shape: (60000, 28, 28, 1)\n",
      "60000 train samples\n",
      "10000 test samples\n",
      "Epoch 1/5\n",
      "469/469 [==============================] - 77s 162ms/step - loss: 2.2589 - accuracy: 0.1620 - val_loss: 2.2116 - val_accuracy: 0.2383\n",
      "Epoch 2/5\n",
      "469/469 [==============================] - 29s 63ms/step - loss: 2.1955 - accuracy: 0.2199 - val_loss: 2.1390 - val_accuracy: 0.3120\n",
      "Epoch 3/5\n",
      "469/469 [==============================] - 29s 62ms/step - loss: 2.1228 - accuracy: 0.2896 - val_loss: 2.0489 - val_accuracy: 0.4740\n",
      "Epoch 4/5\n",
      "469/469 [==============================] - 29s 62ms/step - loss: 2.0333 - accuracy: 0.3613 - val_loss: 1.9354 - val_accuracy: 0.5787\n",
      "Epoch 5/5\n",
      "469/469 [==============================] - 29s 62ms/step - loss: 1.9226 - accuracy: 0.4191 - val_loss: 1.7995 - val_accuracy: 0.6043\n",
      "Training time: 0:03:17.210805\n",
      "Test score: 1.7995078563690186\n",
      "Test accuracy: 0.6043000221252441\n"
     ]
    }
   ],
   "source": [
    "train_model(model,(train_images,train_labels)\n",
    "            ,(test_images,test_labels),\n",
    "            num_classes)"
   ]
  },
  {
   "cell_type": "markdown",
   "metadata": {},
   "source": [
    "# second"
   ]
  },
  {
   "cell_type": "markdown",
   "metadata": {},
   "source": [
    "in this model we use transferf learning"
   ]
  },
  {
   "cell_type": "code",
   "execution_count": 17,
   "metadata": {},
   "outputs": [],
   "source": [
    "fashion_mnist = tf.keras.datasets.fashion_mnist\n",
    "\n",
    "(train_images, train_labels), (test_images, test_labels) = fashion_mnist.load_data()\n",
    "x_train_lt5 = train_images[train_labels < 5]\n",
    "y_train_lt5 = train_labels[train_labels < 5]\n",
    "x_test_lt5 = test_images[test_labels < 5]\n",
    "y_test_lt5 = test_labels[test_labels < 5]\n",
    "\n",
    "x_train_gte5 = train_images[train_labels >= 5]\n",
    "y_train_gte5 = train_labels[train_labels >= 5] - 5\n",
    "x_test_gte5 = test_images[test_labels >= 5]\n",
    "y_test_gte5 = test_labels[test_labels >= 5] - 5"
   ]
  },
  {
   "cell_type": "code",
   "execution_count": 18,
   "metadata": {},
   "outputs": [
    {
     "name": "stdout",
     "output_type": "stream",
     "text": [
      "Model: \"sequential_1\"\n",
      "_________________________________________________________________\n",
      "Layer (type)                 Output Shape              Param #   \n",
      "=================================================================\n",
      "conv2d_2 (Conv2D)            (None, 26, 26, 32)        320       \n",
      "_________________________________________________________________\n",
      "activation_4 (Activation)    (None, 26, 26, 32)        0         \n",
      "_________________________________________________________________\n",
      "conv2d_3 (Conv2D)            (None, 24, 24, 32)        9248      \n",
      "_________________________________________________________________\n",
      "activation_5 (Activation)    (None, 24, 24, 32)        0         \n",
      "_________________________________________________________________\n",
      "max_pooling2d_1 (MaxPooling2 (None, 12, 12, 32)        0         \n",
      "_________________________________________________________________\n",
      "dropout_2 (Dropout)          (None, 12, 12, 32)        0         \n",
      "_________________________________________________________________\n",
      "flatten_1 (Flatten)          (None, 4608)              0         \n",
      "_________________________________________________________________\n",
      "dense_2 (Dense)              (None, 128)               589952    \n",
      "_________________________________________________________________\n",
      "activation_6 (Activation)    (None, 128)               0         \n",
      "_________________________________________________________________\n",
      "dropout_3 (Dropout)          (None, 128)               0         \n",
      "_________________________________________________________________\n",
      "dense_3 (Dense)              (None, 10)                1290      \n",
      "_________________________________________________________________\n",
      "activation_7 (Activation)    (None, 10)                0         \n",
      "=================================================================\n",
      "Total params: 600,810\n",
      "Trainable params: 600,810\n",
      "Non-trainable params: 0\n",
      "_________________________________________________________________\n"
     ]
    }
   ],
   "source": [
    "feature_layers2 = [\n",
    "    Conv2D(filters, kernel_size,\n",
    "           padding='valid',\n",
    "           input_shape=input_shape),\n",
    "    Activation('relu'),\n",
    "    Conv2D(filters, kernel_size),\n",
    "    Activation('relu'),\n",
    "    MaxPooling2D(pool_size=pool_size),\n",
    "    Dropout(0.25),\n",
    "    Flatten(),\n",
    "]\n",
    "\n",
    "classification_layers2 = [\n",
    "    Dense(128),\n",
    "    Activation('relu'),\n",
    "    Dropout(0.5),\n",
    "    Dense(num_classes),\n",
    "    Activation('softmax')\n",
    "]\n",
    "model2 = Sequential(feature_layers2 + classification_layers2)\n",
    "model2.summary()"
   ]
  },
  {
   "cell_type": "code",
   "execution_count": 19,
   "metadata": {},
   "outputs": [
    {
     "name": "stdout",
     "output_type": "stream",
     "text": [
      "x_train shape: (30000, 28, 28, 1)\n",
      "30000 train samples\n",
      "5000 test samples\n",
      "Epoch 1/5\n",
      "235/235 [==============================] - 15s 61ms/step - loss: 2.2823 - accuracy: 0.1736 - val_loss: 2.2496 - val_accuracy: 0.3456\n",
      "Epoch 2/5\n",
      "235/235 [==============================] - 14s 61ms/step - loss: 2.2214 - accuracy: 0.2572 - val_loss: 2.1755 - val_accuracy: 0.3872\n",
      "Epoch 3/5\n",
      "235/235 [==============================] - 15s 63ms/step - loss: 2.1378 - accuracy: 0.3005 - val_loss: 2.0717 - val_accuracy: 0.3950\n",
      "Epoch 4/5\n",
      "235/235 [==============================] - 15s 63ms/step - loss: 2.0269 - accuracy: 0.3256 - val_loss: 1.9301 - val_accuracy: 0.5104\n",
      "Epoch 5/5\n",
      "235/235 [==============================] - 15s 63ms/step - loss: 1.8846 - accuracy: 0.3458 - val_loss: 1.7682 - val_accuracy: 0.5616\n",
      "Training time: 0:01:13.582295\n",
      "Test score: 1.7681812047958374\n",
      "Test accuracy: 0.5616000294685364\n"
     ]
    }
   ],
   "source": [
    "train_model(model2,\n",
    "            (x_train_lt5, y_train_lt5),\n",
    "            (x_test_lt5, y_test_lt5), num_classes)"
   ]
  },
  {
   "cell_type": "code",
   "execution_count": 20,
   "metadata": {},
   "outputs": [],
   "source": [
    "for l in feature_layers2:\n",
    "    l.trainable = False"
   ]
  },
  {
   "cell_type": "code",
   "execution_count": 21,
   "metadata": {},
   "outputs": [
    {
     "name": "stdout",
     "output_type": "stream",
     "text": [
      "Model: \"sequential_1\"\n",
      "_________________________________________________________________\n",
      "Layer (type)                 Output Shape              Param #   \n",
      "=================================================================\n",
      "conv2d_2 (Conv2D)            (None, 26, 26, 32)        320       \n",
      "_________________________________________________________________\n",
      "activation_4 (Activation)    (None, 26, 26, 32)        0         \n",
      "_________________________________________________________________\n",
      "conv2d_3 (Conv2D)            (None, 24, 24, 32)        9248      \n",
      "_________________________________________________________________\n",
      "activation_5 (Activation)    (None, 24, 24, 32)        0         \n",
      "_________________________________________________________________\n",
      "max_pooling2d_1 (MaxPooling2 (None, 12, 12, 32)        0         \n",
      "_________________________________________________________________\n",
      "dropout_2 (Dropout)          (None, 12, 12, 32)        0         \n",
      "_________________________________________________________________\n",
      "flatten_1 (Flatten)          (None, 4608)              0         \n",
      "_________________________________________________________________\n",
      "dense_2 (Dense)              (None, 128)               589952    \n",
      "_________________________________________________________________\n",
      "activation_6 (Activation)    (None, 128)               0         \n",
      "_________________________________________________________________\n",
      "dropout_3 (Dropout)          (None, 128)               0         \n",
      "_________________________________________________________________\n",
      "dense_3 (Dense)              (None, 10)                1290      \n",
      "_________________________________________________________________\n",
      "activation_7 (Activation)    (None, 10)                0         \n",
      "=================================================================\n",
      "Total params: 600,810\n",
      "Trainable params: 591,242\n",
      "Non-trainable params: 9,568\n",
      "_________________________________________________________________\n"
     ]
    }
   ],
   "source": [
    "model2.summary()"
   ]
  },
  {
   "cell_type": "code",
   "execution_count": 22,
   "metadata": {},
   "outputs": [
    {
     "name": "stdout",
     "output_type": "stream",
     "text": [
      "x_train shape: (30000, 28, 28, 1)\n",
      "30000 train samples\n",
      "5000 test samples\n",
      "Epoch 1/5\n",
      "235/235 [==============================] - 5s 22ms/step - loss: 2.0630 - accuracy: 0.2446 - val_loss: 1.9696 - val_accuracy: 0.3888\n",
      "Epoch 2/5\n",
      "235/235 [==============================] - 5s 21ms/step - loss: 1.9628 - accuracy: 0.2969 - val_loss: 1.8757 - val_accuracy: 0.4278\n",
      "Epoch 3/5\n",
      "235/235 [==============================] - 5s 22ms/step - loss: 1.8808 - accuracy: 0.3412 - val_loss: 1.7977 - val_accuracy: 0.5054\n",
      "Epoch 4/5\n",
      "235/235 [==============================] - 5s 21ms/step - loss: 1.8110 - accuracy: 0.3842 - val_loss: 1.7272 - val_accuracy: 0.5832\n",
      "Epoch 5/5\n",
      "235/235 [==============================] - 5s 21ms/step - loss: 1.7477 - accuracy: 0.4191 - val_loss: 1.6608 - val_accuracy: 0.6630\n",
      "Training time: 0:00:25.656413\n",
      "Test score: 1.6608127355575562\n",
      "Test accuracy: 0.6629999876022339\n"
     ]
    }
   ],
   "source": [
    "train_model(model2,\n",
    "            (x_train_gte5, y_train_gte5),\n",
    "            (x_test_gte5, y_test_gte5), num_classes)"
   ]
  },
  {
   "cell_type": "markdown",
   "metadata": {},
   "source": [
    "# CNN"
   ]
  },
  {
   "cell_type": "code",
   "execution_count": 23,
   "metadata": {},
   "outputs": [],
   "source": [
    "model_c = Sequential()\n",
    "model_c.add(Conv2D(32, (3, 3), activation='relu', kernel_initializer='he_uniform', input_shape=(28, 28, 1)))\n",
    "model_c.add(MaxPooling2D((2, 2)))\n",
    "model_c.add(Flatten())\n",
    "model_c.add(Dense(100, activation='relu', kernel_initializer='he_uniform'))\n",
    "model_c.add(Dense(10, activation='softmax'))\n",
    "opt = SGD(learning_rate=0.01, momentum=0.9)\n",
    "model_c.compile(optimizer=opt, loss='categorical_crossentropy', metrics=['accuracy'])"
   ]
  },
  {
   "cell_type": "code",
   "execution_count": 24,
   "metadata": {},
   "outputs": [
    {
     "name": "stdout",
     "output_type": "stream",
     "text": [
      "Model: \"sequential_2\"\n",
      "_________________________________________________________________\n",
      "Layer (type)                 Output Shape              Param #   \n",
      "=================================================================\n",
      "conv2d_4 (Conv2D)            (None, 26, 26, 32)        320       \n",
      "_________________________________________________________________\n",
      "max_pooling2d_2 (MaxPooling2 (None, 13, 13, 32)        0         \n",
      "_________________________________________________________________\n",
      "flatten_2 (Flatten)          (None, 5408)              0         \n",
      "_________________________________________________________________\n",
      "dense_4 (Dense)              (None, 100)               540900    \n",
      "_________________________________________________________________\n",
      "dense_5 (Dense)              (None, 10)                1010      \n",
      "=================================================================\n",
      "Total params: 542,230\n",
      "Trainable params: 542,230\n",
      "Non-trainable params: 0\n",
      "_________________________________________________________________\n"
     ]
    }
   ],
   "source": [
    "model_c.summary()"
   ]
  },
  {
   "cell_type": "code",
   "execution_count": 25,
   "metadata": {},
   "outputs": [
    {
     "name": "stdout",
     "output_type": "stream",
     "text": [
      "x_train shape: (60000, 28, 28, 1)\n",
      "60000 train samples\n",
      "10000 test samples\n",
      "Epoch 1/5\n",
      "469/469 [==============================] - 10s 20ms/step - loss: 2.3578 - accuracy: 0.2287 - val_loss: 1.7471 - val_accuracy: 0.4752\n",
      "Epoch 2/5\n",
      "469/469 [==============================] - 9s 20ms/step - loss: 1.4520 - accuracy: 0.5758 - val_loss: 1.2472 - val_accuracy: 0.6334\n",
      "Epoch 3/5\n",
      "469/469 [==============================] - 9s 19ms/step - loss: 1.1243 - accuracy: 0.6671 - val_loss: 1.0397 - val_accuracy: 0.6808\n",
      "Epoch 4/5\n",
      "469/469 [==============================] - 10s 21ms/step - loss: 0.9662 - accuracy: 0.7061 - val_loss: 0.9194 - val_accuracy: 0.7174\n",
      "Epoch 5/5\n",
      "469/469 [==============================] - 9s 20ms/step - loss: 0.8678 - accuracy: 0.7358 - val_loss: 0.8427 - val_accuracy: 0.7395\n",
      "Training time: 0:00:46.859397\n",
      "Test score: 0.8427396416664124\n",
      "Test accuracy: 0.7394999861717224\n"
     ]
    }
   ],
   "source": [
    "train_model(model_c,(train_images,train_labels)\n",
    "            ,(test_images,test_labels),\n",
    "            num_classes)"
   ]
  },
  {
   "cell_type": "markdown",
   "metadata": {},
   "source": [
    "# improved cnn"
   ]
  },
  {
   "cell_type": "code",
   "execution_count": 26,
   "metadata": {},
   "outputs": [],
   "source": [
    "model_b = Sequential()\n",
    "model_b.add(Conv2D(32, (3, 3),padding='same' ,activation='relu', kernel_initializer='he_uniform', input_shape=(28, 28, 1)))\n",
    "model_b.add(MaxPooling2D((2, 2)))\n",
    "model_b.add(Flatten())\n",
    "model_b.add(Dense(100, activation='relu', kernel_initializer='he_uniform'))\n",
    "model_b.add(Dense(10, activation='softmax'))\n",
    "opt = SGD(learning_rate=0.01, momentum=0.9)\n",
    "model_b.compile(optimizer=opt, loss='categorical_crossentropy', metrics=['accuracy'])"
   ]
  },
  {
   "cell_type": "code",
   "execution_count": 27,
   "metadata": {},
   "outputs": [
    {
     "name": "stdout",
     "output_type": "stream",
     "text": [
      "Model: \"sequential_3\"\n",
      "_________________________________________________________________\n",
      "Layer (type)                 Output Shape              Param #   \n",
      "=================================================================\n",
      "conv2d_5 (Conv2D)            (None, 28, 28, 32)        320       \n",
      "_________________________________________________________________\n",
      "max_pooling2d_3 (MaxPooling2 (None, 14, 14, 32)        0         \n",
      "_________________________________________________________________\n",
      "flatten_3 (Flatten)          (None, 6272)              0         \n",
      "_________________________________________________________________\n",
      "dense_6 (Dense)              (None, 100)               627300    \n",
      "_________________________________________________________________\n",
      "dense_7 (Dense)              (None, 10)                1010      \n",
      "=================================================================\n",
      "Total params: 628,630\n",
      "Trainable params: 628,630\n",
      "Non-trainable params: 0\n",
      "_________________________________________________________________\n"
     ]
    }
   ],
   "source": [
    "model_b.summary()"
   ]
  },
  {
   "cell_type": "code",
   "execution_count": 28,
   "metadata": {},
   "outputs": [
    {
     "name": "stdout",
     "output_type": "stream",
     "text": [
      "x_train shape: (60000, 28, 28, 1)\n",
      "60000 train samples\n",
      "10000 test samples\n",
      "Epoch 1/5\n",
      "469/469 [==============================] - 11s 23ms/step - loss: 2.0190 - accuracy: 0.3082 - val_loss: 1.6323 - val_accuracy: 0.5865\n",
      "Epoch 2/5\n",
      "469/469 [==============================] - 11s 23ms/step - loss: 1.3953 - accuracy: 0.6357 - val_loss: 1.2283 - val_accuracy: 0.6580\n",
      "Epoch 3/5\n",
      "469/469 [==============================] - 11s 23ms/step - loss: 1.1145 - accuracy: 0.6786 - val_loss: 1.0376 - val_accuracy: 0.6928\n",
      "Epoch 4/5\n",
      "469/469 [==============================] - 11s 23ms/step - loss: 0.9645 - accuracy: 0.7146 - val_loss: 0.9230 - val_accuracy: 0.7238\n",
      "Epoch 5/5\n",
      "469/469 [==============================] - 11s 23ms/step - loss: 0.8678 - accuracy: 0.7435 - val_loss: 0.8431 - val_accuracy: 0.7461\n",
      "Training time: 0:00:54.121326\n",
      "Test score: 0.843070924282074\n",
      "Test accuracy: 0.7461000084877014\n"
     ]
    }
   ],
   "source": [
    "train_model(model_b,(train_images,train_labels)\n",
    "            ,(test_images,test_labels),\n",
    "            num_classes)"
   ]
  },
  {
   "cell_type": "markdown",
   "metadata": {},
   "source": [
    "# another one"
   ]
  },
  {
   "cell_type": "code",
   "execution_count": 29,
   "metadata": {},
   "outputs": [],
   "source": [
    "model_d = Sequential()\n",
    "model_d.add(Conv2D(64, (3, 3),padding='same' ,activation='relu', kernel_initializer='he_uniform', input_shape=(28, 28, 1)))\n",
    "model_d.add(MaxPooling2D((2, 2)))\n",
    "model_d.add(Flatten())\n",
    "model_d.add(Dense(100, activation='relu', kernel_initializer='he_uniform'))\n",
    "model_d.add(Dense(10, activation='softmax'))\n",
    "opt = SGD(learning_rate=0.01, momentum=0.9)\n",
    "model_d.compile(optimizer=opt, loss='categorical_crossentropy', metrics=['accuracy'])"
   ]
  },
  {
   "cell_type": "code",
   "execution_count": 30,
   "metadata": {},
   "outputs": [
    {
     "name": "stdout",
     "output_type": "stream",
     "text": [
      "Model: \"sequential_4\"\n",
      "_________________________________________________________________\n",
      "Layer (type)                 Output Shape              Param #   \n",
      "=================================================================\n",
      "conv2d_6 (Conv2D)            (None, 28, 28, 64)        640       \n",
      "_________________________________________________________________\n",
      "max_pooling2d_4 (MaxPooling2 (None, 14, 14, 64)        0         \n",
      "_________________________________________________________________\n",
      "flatten_4 (Flatten)          (None, 12544)             0         \n",
      "_________________________________________________________________\n",
      "dense_8 (Dense)              (None, 100)               1254500   \n",
      "_________________________________________________________________\n",
      "dense_9 (Dense)              (None, 10)                1010      \n",
      "=================================================================\n",
      "Total params: 1,256,150\n",
      "Trainable params: 1,256,150\n",
      "Non-trainable params: 0\n",
      "_________________________________________________________________\n"
     ]
    }
   ],
   "source": [
    "model_d.summary()"
   ]
  },
  {
   "cell_type": "code",
   "execution_count": 31,
   "metadata": {},
   "outputs": [
    {
     "name": "stdout",
     "output_type": "stream",
     "text": [
      "x_train shape: (60000, 28, 28, 1)\n",
      "60000 train samples\n",
      "10000 test samples\n",
      "Epoch 1/5\n",
      "469/469 [==============================] - 19s 40ms/step - loss: 1.7329 - accuracy: 0.4749 - val_loss: 1.3246 - val_accuracy: 0.6389\n",
      "Epoch 2/5\n",
      "469/469 [==============================] - 18s 39ms/step - loss: 1.1180 - accuracy: 0.6842 - val_loss: 0.9844 - val_accuracy: 0.7064\n",
      "Epoch 3/5\n",
      "469/469 [==============================] - 19s 39ms/step - loss: 0.8905 - accuracy: 0.7402 - val_loss: 0.8346 - val_accuracy: 0.7483\n",
      "Epoch 4/5\n",
      "469/469 [==============================] - 19s 39ms/step - loss: 0.7755 - accuracy: 0.7711 - val_loss: 0.7481 - val_accuracy: 0.7712\n",
      "Epoch 5/5\n",
      "469/469 [==============================] - 19s 40ms/step - loss: 0.7034 - accuracy: 0.7896 - val_loss: 0.6913 - val_accuracy: 0.7865\n",
      "Training time: 0:01:33.297603\n",
      "Test score: 0.6912522912025452\n",
      "Test accuracy: 0.7864999771118164\n"
     ]
    }
   ],
   "source": [
    "train_model(model_d,(train_images,train_labels)\n",
    "            ,(test_images,test_labels),\n",
    "            num_classes)"
   ]
  },
  {
   "cell_type": "markdown",
   "metadata": {},
   "source": [
    "# autoencoder"
   ]
  },
  {
   "cell_type": "code",
   "execution_count": 32,
   "metadata": {},
   "outputs": [
    {
     "name": "stdout",
     "output_type": "stream",
     "text": [
      "(60000, 784)\n",
      "(10000, 784)\n"
     ]
    }
   ],
   "source": [
    "x_train_flat = train_images.reshape((len(train_images), np.prod(train_images.shape[1:])))\n",
    "x_test_flat = test_images.reshape((len(test_images), np.prod(test_images.shape[1:])))\n",
    "print(x_train_flat.shape)\n",
    "print(x_test_flat.shape)"
   ]
  },
  {
   "cell_type": "code",
   "execution_count": 33,
   "metadata": {},
   "outputs": [],
   "source": [
    "from sklearn.preprocessing import MinMaxScaler\n",
    "s = MinMaxScaler().fit(x_train_flat)\n",
    "x_train_scaled = s.transform(x_train_flat)"
   ]
  },
  {
   "cell_type": "code",
   "execution_count": 34,
   "metadata": {},
   "outputs": [],
   "source": [
    "ENCODING_DIM = 64\n",
    "\n",
    "inputs = Input(shape=(784,)) \n",
    "encoded = Dense(ENCODING_DIM, activation=\"relu\")(inputs)\n",
    "encoder_model = Model(inputs, encoded, name='encoder')\n",
    "\n",
    "\n",
    "encoded_inputs = Input(shape=(ENCODING_DIM,), name='encoding')\n",
    "reconstruction = Dense(784, activation=\"sigmoid\")(encoded_inputs)\n",
    "decoder_model = Model(encoded_inputs, reconstruction, name='decoder')\n",
    "\n",
    "\n",
    "outputs = decoder_model(encoder_model(inputs))\n",
    "full_model = Model(inputs, outputs, name='full_ae')"
   ]
  },
  {
   "cell_type": "code",
   "execution_count": 35,
   "metadata": {},
   "outputs": [],
   "source": [
    "full_model = Model(inputs=inputs, \n",
    "                   outputs=outputs)\n",
    "\n",
    "full_model.compile(optimizer='rmsprop',\n",
    "                 loss='binary_crossentropy',\n",
    "                 metrics=['accuracy'])"
   ]
  },
  {
   "cell_type": "code",
   "execution_count": 36,
   "metadata": {},
   "outputs": [
    {
     "name": "stdout",
     "output_type": "stream",
     "text": [
      "1875/1875 [==============================] - 2s 1ms/step - loss: -377611264.0000 - accuracy: 0.0042\n"
     ]
    }
   ],
   "source": [
    "history = full_model.fit(x_train_flat, x_train_flat, shuffle=True, epochs=1, batch_size=32)"
   ]
  },
  {
   "cell_type": "markdown",
   "metadata": {},
   "source": [
    "we performed poorly here will improve soon"
   ]
  },
  {
   "cell_type": "code",
   "execution_count": 37,
   "metadata": {},
   "outputs": [],
   "source": [
    "ENCODING_DIM = 34\n",
    "HIDDEN_DIM = 256\n",
    "\n",
    "\n",
    "\n",
    "inputs = Input(shape=(784,)) \n",
    "encoded = Dense(ENCODING_DIM, activation=\"relu\")(inputs)\n",
    "encoder_hidden = Dense(HIDDEN_DIM, activation=\"sigmoid\")(encoded)\n",
    "encoder_model = Model(inputs, encoded, name='encoder')\n",
    "\n",
    "\n",
    "\n",
    "encoded_inputs = Input(shape=(ENCODING_DIM,), name='encoding')\n",
    "decoder_hidden = Dense(HIDDEN_DIM, activation=\"relu\")(encoded_inputs)\n",
    "reconstruction = Dense(784, activation=\"sigmoid\")(decoder_hidden)\n",
    "decoder_model = Model(encoded_inputs, reconstruction, name='decoder')\n",
    "\n",
    "\n",
    "\n",
    "outputs = decoder_model(encoder_model(inputs))\n",
    "full_model = Model(inputs, outputs, name='full_ae')"
   ]
  },
  {
   "cell_type": "code",
   "execution_count": 38,
   "metadata": {},
   "outputs": [],
   "source": [
    "full_model = Model(inputs=inputs, \n",
    "                   outputs=outputs)\n",
    "\n",
    "full_model.compile(optimizer='rmsprop',\n",
    "                 loss='binary_crossentropy',\n",
    "                 metrics=['accuracy'])"
   ]
  },
  {
   "cell_type": "code",
   "execution_count": 39,
   "metadata": {},
   "outputs": [
    {
     "name": "stdout",
     "output_type": "stream",
     "text": [
      "Epoch 1/2\n",
      "1875/1875 [==============================] - 3s 2ms/step - loss: -52762918912.0000 - accuracy: 0.0016\n",
      "Epoch 2/2\n",
      "1875/1875 [==============================] - 4s 2ms/step - loss: -740490608640.0000 - accuracy: 0.0016\n"
     ]
    }
   ],
   "source": [
    "history = full_model.fit(x_train_flat, x_train_flat, shuffle=True, epochs=2, batch_size=32)"
   ]
  },
  {
   "cell_type": "code",
   "execution_count": 40,
   "metadata": {},
   "outputs": [],
   "source": [
    "def mse_reconstruction(true, reconstructed):\n",
    "    return np.sum(np.power(true - reconstructed, 2) / true.shape[1])"
   ]
  },
  {
   "cell_type": "code",
   "execution_count": 41,
   "metadata": {},
   "outputs": [
    {
     "data": {
      "text/plain": [
       "132823060.0"
      ]
     },
     "execution_count": 41,
     "metadata": {},
     "output_type": "execute_result"
    }
   ],
   "source": [
    "decoded_images = full_model.predict(x_test_flat)\n",
    "mse_reconstruction(decoded_images, x_test_flat)\n",
    "\n",
    "decoded_images = full_model.predict(x_test_flat)\n",
    "mse_reconstruction(decoded_images, x_test_flat)"
   ]
  },
  {
   "cell_type": "code",
   "execution_count": 42,
   "metadata": {},
   "outputs": [],
   "source": [
    "def train_ae_epochs(num_epochs=1):\n",
    "    ENCODING_DIM = 32\n",
    "    HIDDEN_DIM = 256\n",
    "\n",
    "    inputs = Input(shape=(784,)) \n",
    "    encoded = Dense(ENCODING_DIM, activation=\"relu\")(inputs)\n",
    "    encoder_hidden = Dense(HIDDEN_DIM, activation=\"sigmoid\")(encoded)\n",
    "    encoder_model = Model(inputs, encoded, name='encoder')\n",
    "\n",
    "    encoded_inputs = Input(shape=(ENCODING_DIM,), name='encoding')\n",
    "    decoder_hidden = Dense(HIDDEN_DIM, activation=\"relu\")(encoded_inputs)\n",
    "    reconstruction = Dense(784, activation=\"sigmoid\")(decoder_hidden)\n",
    "    decoder_model = Model(encoded_inputs, reconstruction, name='decoder')\n",
    "\n",
    "    outputs = decoder_model(encoder_model(inputs))\n",
    "    full_model = Model(inputs, outputs, name='full_ae')\n",
    "    \n",
    "    full_model = Model(inputs=inputs, \n",
    "                       outputs=outputs)\n",
    "\n",
    "    full_model.compile(optimizer='rmsprop',\n",
    "                     loss='binary_crossentropy',\n",
    "                     metrics=['accuracy'])\n",
    "    mse_res = []\n",
    "    for i in range(num_epochs):\n",
    "        history = full_model.fit(x_train_flat, x_train_flat, shuffle=True, epochs=1, batch_size=32)\n",
    "    \n",
    "        decoded_images = full_model.predict(x_test_flat)\n",
    "        reconstruction_loss = mse_reconstruction(decoded_images, x_test_flat)\n",
    "        mse_res.append(reconstruction_loss)\n",
    "        print(\"Reconstruction loss after epoch {0} is {1}\"\n",
    "              .format(i+1, reconstruction_loss))\n",
    "    return mse_res\n"
   ]
  },
  {
   "cell_type": "code",
   "execution_count": 43,
   "metadata": {},
   "outputs": [
    {
     "name": "stdout",
     "output_type": "stream",
     "text": [
      "1875/1875 [==============================] - 4s 2ms/step - loss: -51357528064.0000 - accuracy: 0.0011\n",
      "Reconstruction loss after epoch 1 is 132823048.0\n",
      "1875/1875 [==============================] - 4s 2ms/step - loss: -732233203712.0000 - accuracy: 0.0011\n",
      "Reconstruction loss after epoch 2 is 132823088.0\n",
      "1875/1875 [==============================] - 4s 2ms/step - loss: -3106702622720.0000 - accuracy: 0.0011\n",
      "Reconstruction loss after epoch 3 is 132823216.0\n",
      "1875/1875 [==============================] - 4s 2ms/step - loss: -8283035795456.0000 - accuracy: 0.0011\n",
      "Reconstruction loss after epoch 4 is 132823160.0\n",
      "1875/1875 [==============================] - 4s 2ms/step - loss: -17332195819520.0000 - accuracy: 0.0011\n",
      "Reconstruction loss after epoch 5 is 132823064.0\n"
     ]
    },
    {
     "data": {
      "text/plain": [
       "[132823050.0, 132823090.0, 132823220.0, 132823160.0, 132823064.0]"
      ]
     },
     "execution_count": 43,
     "metadata": {},
     "output_type": "execute_result"
    }
   ],
   "source": [
    "train_ae_epochs(5)"
   ]
  },
  {
   "cell_type": "code",
   "execution_count": 44,
   "metadata": {},
   "outputs": [],
   "source": [
    "full_model_2 = Model(inputs=inputs, \n",
    "                   outputs=outputs)\n",
    "\n",
    "full_model_2.compile(optimizer='rmsprop',\n",
    "                 loss='binary_crossentropy',\n",
    "                 metrics=['accuracy'])"
   ]
  },
  {
   "cell_type": "code",
   "execution_count": 45,
   "metadata": {},
   "outputs": [
    {
     "name": "stdout",
     "output_type": "stream",
     "text": [
      "Model: \"sequential_1\"\n",
      "_________________________________________________________________\n",
      "Layer (type)                 Output Shape              Param #   \n",
      "=================================================================\n",
      "conv2d_2 (Conv2D)            (None, 26, 26, 32)        320       \n",
      "_________________________________________________________________\n",
      "activation_4 (Activation)    (None, 26, 26, 32)        0         \n",
      "_________________________________________________________________\n",
      "conv2d_3 (Conv2D)            (None, 24, 24, 32)        9248      \n",
      "_________________________________________________________________\n",
      "activation_5 (Activation)    (None, 24, 24, 32)        0         \n",
      "_________________________________________________________________\n",
      "max_pooling2d_1 (MaxPooling2 (None, 12, 12, 32)        0         \n",
      "_________________________________________________________________\n",
      "dropout_2 (Dropout)          (None, 12, 12, 32)        0         \n",
      "_________________________________________________________________\n",
      "flatten_1 (Flatten)          (None, 4608)              0         \n",
      "_________________________________________________________________\n",
      "dense_2 (Dense)              (None, 128)               589952    \n",
      "_________________________________________________________________\n",
      "activation_6 (Activation)    (None, 128)               0         \n",
      "_________________________________________________________________\n",
      "dropout_3 (Dropout)          (None, 128)               0         \n",
      "_________________________________________________________________\n",
      "dense_3 (Dense)              (None, 10)                1290      \n",
      "_________________________________________________________________\n",
      "activation_7 (Activation)    (None, 10)                0         \n",
      "=================================================================\n",
      "Total params: 600,810\n",
      "Trainable params: 591,242\n",
      "Non-trainable params: 9,568\n",
      "_________________________________________________________________\n"
     ]
    }
   ],
   "source": [
    "model2.summary()"
   ]
  },
  {
   "cell_type": "code",
   "execution_count": 65,
   "metadata": {},
   "outputs": [
    {
     "name": "stdout",
     "output_type": "stream",
     "text": [
      "Epoch 1/5\n",
      "1875/1875 [==============================] - 2s 1ms/step - loss: -79196613246976.0000 - accuracy: 0.0015\n",
      "Epoch 2/5\n",
      "1875/1875 [==============================] - 2s 1ms/step - loss: -114881407746048.0000 - accuracy: 0.0015\n",
      "Epoch 3/5\n",
      "1875/1875 [==============================] - 2s 1ms/step - loss: -159983572353024.0000 - accuracy: 0.0015\n",
      "Epoch 4/5\n",
      "1875/1875 [==============================] - 2s 1ms/step - loss: -215495420674048.0000 - accuracy: 0.0015\n",
      "Epoch 5/5\n",
      "1875/1875 [==============================] - 2s 1ms/step - loss: -282465839087616.0000 - accuracy: 0.0015\n"
     ]
    }
   ],
   "source": [
    "history = full_model_2.fit(x_train_flat, x_train_flat, shuffle=True, epochs=5, batch_size=32)"
   ]
  },
  {
   "cell_type": "code",
   "execution_count": 47,
   "metadata": {},
   "outputs": [],
   "source": [
    "from keras import layers\n",
    "\n",
    "input_img = keras.Input(shape=(28, 28, 1))\n",
    "\n",
    "x = layers.Conv2D(16, (3, 3), activation='relu', padding='same')(input_img)\n",
    "x = layers.MaxPooling2D((2, 2), padding='same')(x)\n",
    "x = layers.Conv2D(8, (3, 3), activation='relu', padding='same')(x)\n",
    "x = layers.MaxPooling2D((2, 2), padding='same')(x)\n",
    "x = layers.Conv2D(8, (3, 3), activation='relu', padding='same')(x)\n",
    "encoded = layers.MaxPooling2D((2, 2), padding='same')(x)\n",
    "\n",
    "\n",
    "x = layers.Conv2D(8, (3, 3), activation='relu', padding='same')(encoded)\n",
    "x = layers.UpSampling2D((2, 2))(x)\n",
    "x = layers.Conv2D(8, (3, 3), activation='relu', padding='same')(x)\n",
    "x = layers.UpSampling2D((2, 2))(x)\n",
    "x = layers.Conv2D(16, (3, 3), activation='relu')(x)\n",
    "x = layers.UpSampling2D((2, 2))(x)\n",
    "decoded = layers.Conv2D(1, (3, 3), activation='sigmoid', padding='same')(x)\n",
    "\n",
    "autoencoder = keras.Model(input_img, decoded)\n",
    "autoencoder.compile(optimizer='adam', loss='binary_crossentropy',metrics=['accuracy'])"
   ]
  },
  {
   "cell_type": "code",
   "execution_count": 48,
   "metadata": {},
   "outputs": [
    {
     "name": "stdout",
     "output_type": "stream",
     "text": [
      "Model: \"model_4\"\n",
      "_________________________________________________________________\n",
      "Layer (type)                 Output Shape              Param #   \n",
      "=================================================================\n",
      "input_4 (InputLayer)         [(None, 28, 28, 1)]       0         \n",
      "_________________________________________________________________\n",
      "conv2d_7 (Conv2D)            (None, 28, 28, 16)        160       \n",
      "_________________________________________________________________\n",
      "max_pooling2d_5 (MaxPooling2 (None, 14, 14, 16)        0         \n",
      "_________________________________________________________________\n",
      "conv2d_8 (Conv2D)            (None, 14, 14, 8)         1160      \n",
      "_________________________________________________________________\n",
      "max_pooling2d_6 (MaxPooling2 (None, 7, 7, 8)           0         \n",
      "_________________________________________________________________\n",
      "conv2d_9 (Conv2D)            (None, 7, 7, 8)           584       \n",
      "_________________________________________________________________\n",
      "max_pooling2d_7 (MaxPooling2 (None, 4, 4, 8)           0         \n",
      "_________________________________________________________________\n",
      "conv2d_10 (Conv2D)           (None, 4, 4, 8)           584       \n",
      "_________________________________________________________________\n",
      "up_sampling2d (UpSampling2D) (None, 8, 8, 8)           0         \n",
      "_________________________________________________________________\n",
      "conv2d_11 (Conv2D)           (None, 8, 8, 8)           584       \n",
      "_________________________________________________________________\n",
      "up_sampling2d_1 (UpSampling2 (None, 16, 16, 8)         0         \n",
      "_________________________________________________________________\n",
      "conv2d_12 (Conv2D)           (None, 14, 14, 16)        1168      \n",
      "_________________________________________________________________\n",
      "up_sampling2d_2 (UpSampling2 (None, 28, 28, 16)        0         \n",
      "_________________________________________________________________\n",
      "conv2d_13 (Conv2D)           (None, 28, 28, 1)         145       \n",
      "=================================================================\n",
      "Total params: 4,385\n",
      "Trainable params: 4,385\n",
      "Non-trainable params: 0\n",
      "_________________________________________________________________\n"
     ]
    }
   ],
   "source": [
    "autoencoder.summary()"
   ]
  },
  {
   "cell_type": "code",
   "execution_count": 59,
   "metadata": {},
   "outputs": [],
   "source": [
    "x_train = train_images.astype('float32')\n",
    "x_test = test_images.astype('float32')\n",
    "x_train /= 255\n",
    "x_test /= 255\n",
    "x_train = np.reshape(x_train, (len(x_train), 28, 28, 1))\n",
    "x_test = np.reshape(x_test, (len(x_test),28, 28, 1))"
   ]
  },
  {
   "cell_type": "code",
   "execution_count": 50,
   "metadata": {},
   "outputs": [
    {
     "name": "stdout",
     "output_type": "stream",
     "text": [
      "Epoch 1/10\n",
      "469/469 [==============================] - 31s 65ms/step - loss: 0.3521 - accuracy: 0.5006 - val_loss: 0.3082 - val_accuracy: 0.5004\n",
      "Epoch 2/10\n",
      "469/469 [==============================] - 31s 65ms/step - loss: 0.3012 - accuracy: 0.5040 - val_loss: 0.2994 - val_accuracy: 0.5021\n",
      "Epoch 3/10\n",
      "469/469 [==============================] - 31s 65ms/step - loss: 0.2953 - accuracy: 0.5050 - val_loss: 0.2954 - val_accuracy: 0.5029\n",
      "Epoch 4/10\n",
      "469/469 [==============================] - 31s 66ms/step - loss: 0.2922 - accuracy: 0.5055 - val_loss: 0.2932 - val_accuracy: 0.5037\n",
      "Epoch 5/10\n",
      "469/469 [==============================] - 31s 66ms/step - loss: 0.2902 - accuracy: 0.5058 - val_loss: 0.2912 - val_accuracy: 0.5039\n",
      "Epoch 6/10\n",
      "469/469 [==============================] - 31s 66ms/step - loss: 0.2886 - accuracy: 0.5061 - val_loss: 0.2897 - val_accuracy: 0.5040\n",
      "Epoch 7/10\n",
      "469/469 [==============================] - 31s 66ms/step - loss: 0.2873 - accuracy: 0.5062 - val_loss: 0.2887 - val_accuracy: 0.5041\n",
      "Epoch 8/10\n",
      "469/469 [==============================] - 31s 66ms/step - loss: 0.2863 - accuracy: 0.5063 - val_loss: 0.2879 - val_accuracy: 0.5040\n",
      "Epoch 9/10\n",
      "469/469 [==============================] - 31s 66ms/step - loss: 0.2855 - accuracy: 0.5064 - val_loss: 0.2875 - val_accuracy: 0.5041\n",
      "Epoch 10/10\n",
      "469/469 [==============================] - 31s 66ms/step - loss: 0.2848 - accuracy: 0.5065 - val_loss: 0.2868 - val_accuracy: 0.5047\n"
     ]
    },
    {
     "data": {
      "text/plain": [
       "<keras.callbacks.History at 0x211a2f3d970>"
      ]
     },
     "execution_count": 50,
     "metadata": {},
     "output_type": "execute_result"
    }
   ],
   "source": [
    "from keras.callbacks import TensorBoard\n",
    "\n",
    "autoencoder.fit(x_train, x_train,\n",
    "                epochs=10,\n",
    "                batch_size=128,\n",
    "                shuffle=True,\n",
    "                validation_data=(x_test, x_test),\n",
    "                callbacks=[TensorBoard(log_dir='/tmp/autoencoder')])"
   ]
  },
  {
   "cell_type": "markdown",
   "metadata": {},
   "source": [
    "back on track"
   ]
  },
  {
   "cell_type": "code",
   "execution_count": 51,
   "metadata": {},
   "outputs": [
    {
     "data": {
      "image/png": "[encoded data removed]",
      "text/plain": [
       "<Figure size 1440x288 with 20 Axes>"
      ]
     },
     "metadata": {
      "needs_background": "light"
     },
     "output_type": "display_data"
    }
   ],
   "source": [
    "decoded_imgs = autoencoder.predict(x_test)\n",
    "\n",
    "n = 10\n",
    "plt.figure(figsize=(20, 4))\n",
    "for i in range(1, n + 1):\n",
    "    ax = plt.subplot(2, n, i)\n",
    "    plt.imshow(x_test[i].reshape(28, 28))\n",
    "    plt.gray()\n",
    "    ax.get_xaxis().set_visible(False)\n",
    "    ax.get_yaxis().set_visible(False)\n",
    "\n",
    "    ax = plt.subplot(2, n, i + n)\n",
    "    plt.imshow(decoded_imgs[i].reshape(28, 28))\n",
    "    plt.gray()\n",
    "    ax.get_xaxis().set_visible(False)\n",
    "    ax.get_yaxis().set_visible(False)\n",
    "plt.show()"
   ]
  },
  {
   "cell_type": "markdown",
   "metadata": {},
   "source": [
    "i showed what the autoencoder will make "
   ]
  },
  {
   "cell_type": "code",
   "execution_count": 90,
   "metadata": {},
   "outputs": [
    {
     "name": "stdout",
     "output_type": "stream",
     "text": [
      "Model: \"model_11\"\n",
      "_________________________________________________________________\n",
      "Layer (type)                 Output Shape              Param #   \n",
      "=================================================================\n",
      "inputs (InputLayer)          [(None, 28, 28, 1)]       0         \n",
      "_________________________________________________________________\n",
      "conv2d_34 (Conv2D)           (None, 28, 28, 32)        320       \n",
      "_________________________________________________________________\n",
      "batch_normalization_16 (Batc (None, 28, 28, 32)        128       \n",
      "_________________________________________________________________\n",
      "leaky_re_lu_15 (LeakyReLU)   (None, 28, 28, 32)        0         \n",
      "_________________________________________________________________\n",
      "max_pooling2d_19 (MaxPooling (None, 14, 14, 32)        0         \n",
      "_________________________________________________________________\n",
      "conv2d_35 (Conv2D)           (None, 14, 14, 64)        18496     \n",
      "_________________________________________________________________\n",
      "batch_normalization_17 (Batc (None, 14, 14, 64)        256       \n",
      "_________________________________________________________________\n",
      "leaky_re_lu_16 (LeakyReLU)   (None, 14, 14, 64)        0         \n",
      "_________________________________________________________________\n",
      "max_pooling2d_20 (MaxPooling (None, 7, 7, 64)          0         \n",
      "_________________________________________________________________\n",
      "flatten_9 (Flatten)          (None, 3136)              0         \n",
      "_________________________________________________________________\n",
      "latent (Dense)               (None, 128)               401536    \n",
      "_________________________________________________________________\n",
      "dense_35 (Dense)             (None, 3136)              404544    \n",
      "_________________________________________________________________\n",
      "leaky_re_lu_17 (LeakyReLU)   (None, 3136)              0         \n",
      "_________________________________________________________________\n",
      "reshape_3 (Reshape)          (None, 7, 7, 64)          0         \n",
      "_________________________________________________________________\n",
      "conv2d_transpose_6 (Conv2DTr (None, 14, 14, 64)        36928     \n",
      "_________________________________________________________________\n",
      "batch_normalization_18 (Batc (None, 14, 14, 64)        256       \n",
      "_________________________________________________________________\n",
      "leaky_re_lu_18 (LeakyReLU)   (None, 14, 14, 64)        0         \n",
      "_________________________________________________________________\n",
      "conv2d_transpose_7 (Conv2DTr (None, 28, 28, 1)         577       \n",
      "_________________________________________________________________\n",
      "batch_normalization_19 (Batc (None, 28, 28, 1)         4         \n",
      "_________________________________________________________________\n",
      "outputs (Activation)         (None, 28, 28, 1)         0         \n",
      "=================================================================\n",
      "Total params: 863,045\n",
      "Trainable params: 862,723\n",
      "Non-trainable params: 322\n",
      "_________________________________________________________________\n"
     ]
    }
   ],
   "source": [
    "inputs = Input(shape=(28, 28, 1), name=\"inputs\")\n",
    "x = inputs\n",
    "x = Conv2D(32, (3, 3), padding=\"same\")(x)\n",
    "x = BatchNormalization()(x)\n",
    "x = LeakyReLU(alpha=0.2)(x)\n",
    "x = MaxPool2D((2, 2))(x)\n",
    "\n",
    "x = Conv2D(64, (3, 3), padding=\"same\")(x)\n",
    "x = BatchNormalization()(x)\n",
    "x = LeakyReLU(alpha=0.2)(x)\n",
    "x = MaxPool2D((2, 2))(x)\n",
    "\n",
    "\n",
    "x = Flatten()(x)\n",
    "units = x.shape[1]\n",
    "x = Dense(128, name=\"latent\")(x)\n",
    "x = Dense(units)(x)\n",
    "x = LeakyReLU(alpha=0.2)(x)\n",
    "x = Reshape((7, 7, 64))(x)\n",
    "\n",
    "\n",
    "x = Conv2DTranspose(64, (3, 3), strides=2, padding=\"same\")(x)\n",
    "x = BatchNormalization()(x)\n",
    "x = LeakyReLU(alpha=0.2)(x)\n",
    "\n",
    "x = Conv2DTranspose(1, (3, 3), strides=2, padding=\"same\")(x)\n",
    "x = BatchNormalization()(x)\n",
    "x = Activation(\"sigmoid\", name=\"outputs\")(x)\n",
    "\n",
    "outputs = x\n",
    "\n",
    "autoencoder_2 = Model(inputs, outputs)\n",
    "autoencoder_2.compile(optimizer=Adam(1e-3), loss='binary_crossentropy',metrics=['accuracy'])\n",
    "autoencoder_2.summary()"
   ]
  },
  {
   "cell_type": "code",
   "execution_count": 91,
   "metadata": {},
   "outputs": [
    {
     "name": "stdout",
     "output_type": "stream",
     "text": [
      "Epoch 1/20\n",
      "235/235 [==============================] - 54s 228ms/step - loss: 0.4612 - accuracy: 0.4932 - val_loss: 0.4993 - val_accuracy: 0.5032\n",
      "Epoch 2/20\n",
      "235/235 [==============================] - 54s 231ms/step - loss: 0.3889 - accuracy: 0.5077 - val_loss: 0.3814 - val_accuracy: 0.5065\n",
      "Epoch 3/20\n",
      "235/235 [==============================] - 54s 231ms/step - loss: 0.3510 - accuracy: 0.5089 - val_loss: 0.3385 - val_accuracy: 0.5070\n",
      "Epoch 4/20\n",
      "235/235 [==============================] - 53s 225ms/step - loss: 0.3266 - accuracy: 0.5093 - val_loss: 0.3206 - val_accuracy: 0.5071\n",
      "Epoch 5/20\n",
      "235/235 [==============================] - 49s 207ms/step - loss: 0.3098 - accuracy: 0.5095 - val_loss: 0.3105 - val_accuracy: 0.5071\n",
      "Epoch 6/20\n",
      "235/235 [==============================] - 51s 219ms/step - loss: 0.2978 - accuracy: 0.5096 - val_loss: 0.3005 - val_accuracy: 0.5073\n",
      "Epoch 7/20\n",
      "235/235 [==============================] - 55s 233ms/step - loss: 0.2889 - accuracy: 0.5097 - val_loss: 0.2898 - val_accuracy: 0.5074\n",
      "Epoch 8/20\n",
      "235/235 [==============================] - 55s 235ms/step - loss: 0.2822 - accuracy: 0.5098 - val_loss: 0.2848 - val_accuracy: 0.5074\n",
      "Epoch 9/20\n",
      "235/235 [==============================] - 53s 227ms/step - loss: 0.2769 - accuracy: 0.5098 - val_loss: 0.2791 - val_accuracy: 0.5075\n",
      "Epoch 10/20\n",
      "235/235 [==============================] - 55s 236ms/step - loss: 0.2728 - accuracy: 0.5098 - val_loss: 0.2751 - val_accuracy: 0.5075\n",
      "Epoch 11/20\n",
      "235/235 [==============================] - 57s 242ms/step - loss: 0.2694 - accuracy: 0.5099 - val_loss: 0.2712 - val_accuracy: 0.5076\n",
      "Epoch 12/20\n",
      "235/235 [==============================] - 54s 230ms/step - loss: 0.2668 - accuracy: 0.5099 - val_loss: 0.2691 - val_accuracy: 0.5076\n",
      "Epoch 13/20\n",
      "235/235 [==============================] - 54s 228ms/step - loss: 0.2646 - accuracy: 0.5099 - val_loss: 0.2662 - val_accuracy: 0.5076\n",
      "Epoch 14/20\n",
      "235/235 [==============================] - 56s 237ms/step - loss: 0.2628 - accuracy: 0.5099 - val_loss: 0.2651 - val_accuracy: 0.5076\n",
      "Epoch 15/20\n",
      "235/235 [==============================] - 53s 226ms/step - loss: 0.2613 - accuracy: 0.5099 - val_loss: 0.2633 - val_accuracy: 0.5076\n",
      "Epoch 16/20\n",
      "235/235 [==============================] - 56s 239ms/step - loss: 0.2600 - accuracy: 0.5099 - val_loss: 0.2623 - val_accuracy: 0.5077\n",
      "Epoch 17/20\n",
      "235/235 [==============================] - 55s 235ms/step - loss: 0.2589 - accuracy: 0.5099 - val_loss: 0.2615 - val_accuracy: 0.5076\n",
      "Epoch 18/20\n",
      "235/235 [==============================] - 57s 241ms/step - loss: 0.2579 - accuracy: 0.5099 - val_loss: 0.2616 - val_accuracy: 0.5076\n",
      "Epoch 19/20\n",
      "235/235 [==============================] - 57s 242ms/step - loss: 0.2571 - accuracy: 0.5099 - val_loss: 0.2596 - val_accuracy: 0.5077\n",
      "Epoch 20/20\n",
      "235/235 [==============================] - 56s 238ms/step - loss: 0.2564 - accuracy: 0.5099 - val_loss: 0.2603 - val_accuracy: 0.5076\n"
     ]
    },
    {
     "data": {
      "text/plain": [
       "<keras.callbacks.History at 0x211a2252bb0>"
      ]
     },
     "execution_count": 91,
     "metadata": {},
     "output_type": "execute_result"
    }
   ],
   "source": [
    "autoencoder_2.fit(\n",
    "    x_train,\n",
    "    x_train,\n",
    "    epochs=20,\n",
    "    batch_size=256,\n",
    "    shuffle=False,\n",
    "    validation_data=(x_test, x_test)\n",
    ")"
   ]
  },
  {
   "cell_type": "code",
   "execution_count": 87,
   "metadata": {},
   "outputs": [
    {
     "data": {
      "image/png": "[encoded data removed]",
      "text/plain": [
       "<Figure size 1440x288 with 20 Axes>"
      ]
     },
     "metadata": {
      "needs_background": "light"
     },
     "output_type": "display_data"
    }
   ],
   "source": [
    "decoded_imgs = autoencoder_2.predict(x_test)\n",
    "\n",
    "n = 10\n",
    "plt.figure(figsize=(20, 4))\n",
    "for i in range(1, n + 1):\n",
    "    ax = plt.subplot(2, n, i)\n",
    "    plt.imshow(x_test[i].reshape(28, 28))\n",
    "    plt.gray()\n",
    "    ax.get_xaxis().set_visible(False)\n",
    "    ax.get_yaxis().set_visible(False)\n",
    "\n",
    "    ax = plt.subplot(2, n, i + n)\n",
    "    plt.imshow(decoded_imgs[i].reshape(28, 28))\n",
    "    plt.gray()\n",
    "    ax.get_xaxis().set_visible(False)\n",
    "    ax.get_yaxis().set_visible(False)\n",
    "plt.show()"
   ]
  },
  {
   "cell_type": "markdown",
   "metadata": {},
   "source": [
    "the last one was the best model and we can see why"
   ]
  },
  {
   "cell_type": "markdown",
   "metadata": {},
   "source": [
    "we recommend either our improved cnn model and or autoencoder_2"
   ]
  },
  {
   "cell_type": "markdown",
   "metadata": {},
   "source": [
    "# summary and key finding\n",
    "after this notebook i realized the Architecture for the layers is the most important part of NN models and we can have really diffrent outcomes "
   ]
  },
  {
   "cell_type": "markdown",
   "metadata": {},
   "source": [
    "# suggestions for next step\n",
    "my suggestion is using cnn autoencoders are really good and we get really high accuracy \n",
    "another thing is finding the right way to set up layers is really important \n",
    "my suggestion is to spend time and grind our way to become good at nn"
   ]
  }
 ],
 "metadata": {
  "kernelspec": {
   "display_name": "Python 3",
   "language": "python",
   "name": "python3"
  },
  "language_info": {
   "codemirror_mode": {
    "name": "ipython",
    "version": 3
   },
   "file_extension": ".py",
   "mimetype": "text/x-python",
   "name": "python",
   "nbconvert_exporter": "python",
   "pygments_lexer": "ipython3",
   "version": "3.8.5"
  }
 },
 "nbformat": 4,
 "nbformat_minor": 4
}
